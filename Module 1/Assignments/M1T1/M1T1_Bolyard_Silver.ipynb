{
 "cells": [
  {
   "cell_type": "markdown",
   "metadata": {},
   "source": [
    "# M1T1\n",
    "Lets the user know if a package can fit on a bus.\n",
    "\n",
    "The user provides the length of the package (fishing pole) and the max package length of the bus.\n",
    "\n",
    "If the item can fit on the bus, it prints the dimensions of a possible best fit box."
   ]
  },
  {
   "cell_type": "code",
   "execution_count": 5,
   "metadata": {},
   "outputs": [
    {
     "name": "stdout",
     "output_type": "stream",
     "text": [
      "Enter the length of the fishing pole, in feet: 5\n",
      "Enter the maximum length allowed, in feet: 4\n",
      "It fits! Use a box 4' wide and 4' deep.\n"
     ]
    }
   ],
   "source": [
    "import Bronze\n",
    "Bronze.main()"
   ]
  },
  {
   "cell_type": "code",
   "execution_count": null,
   "metadata": {},
   "outputs": [],
   "source": []
  }
 ],
 "metadata": {
  "kernelspec": {
   "display_name": "Python 3",
   "language": "python",
   "name": "python3"
  },
  "language_info": {
   "codemirror_mode": {
    "name": "ipython",
    "version": 3
   },
   "file_extension": ".py",
   "mimetype": "text/x-python",
   "name": "python",
   "nbconvert_exporter": "python",
   "pygments_lexer": "ipython3",
   "version": "3.6.5"
  }
 },
 "nbformat": 4,
 "nbformat_minor": 2
}
