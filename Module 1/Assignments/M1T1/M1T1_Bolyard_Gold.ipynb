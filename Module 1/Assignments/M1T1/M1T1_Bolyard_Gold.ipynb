{
 "cells": [
  {
   "cell_type": "markdown",
   "metadata": {},
   "source": [
    "# M1T1\n",
    "\n",
    "Provides the user the option to check if a fishing pole will fit or to get the size of the box necessary to fit a fishing box.\n",
    "\n",
    "The user provides the length of the package (fishing pole) and the max package length of the bus."
   ]
  },
  {
   "cell_type": "code",
   "execution_count": 1,
   "metadata": {},
   "outputs": [
    {
     "name": "stdout",
     "output_type": "stream",
     "text": [
      "1) Find the size of a box to fit a fishing pole.\n",
      "2) Calculate the size of a fishing pole.\n",
      "Select an option: 1\n",
      "Enter the length of the fishing pole, in feet: 5\n",
      "Enter the maximum length allowed, in feet: 4\n",
      "It fits! You need a box 4' wide and 3' deep.\n",
      "Continue? [Y]es/[N]o: y\n",
      "1) Find the size of a box to fit a fishing pole.\n",
      "2) Calculate the size of a fishing pole.\n",
      "Select an option: 1\n",
      "Enter the length of the fishing pole, in feet: 4\n",
      "Enter the maximum length allowed, in feet: 5\n",
      "It fits! You need a box 5' wide and 3' deep.\n",
      "Continue? [Y]es/[N]o: y\n",
      "1) Find the size of a box to fit a fishing pole.\n",
      "2) Calculate the size of a fishing pole.\n",
      "Select an option: 1\n",
      "Enter the length of the fishing pole, in feet: 10\n",
      "Enter the maximum length allowed, in feet: 5\n",
      "The item cannot fit on the bus, even diagonally.\n",
      "Continue? [Y]es/[N]o: n\n",
      "Good-bye!\n"
     ]
    }
   ],
   "source": [
    "import Gold\n",
    "Gold.main()"
   ]
  },
  {
   "cell_type": "code",
   "execution_count": null,
   "metadata": {},
   "outputs": [],
   "source": []
  }
 ],
 "metadata": {
  "kernelspec": {
   "display_name": "Python 3",
   "language": "python",
   "name": "python3"
  },
  "language_info": {
   "codemirror_mode": {
    "name": "ipython",
    "version": 3
   },
   "file_extension": ".py",
   "mimetype": "text/x-python",
   "name": "python",
   "nbconvert_exporter": "python",
   "pygments_lexer": "ipython3",
   "version": "3.6.5"
  }
 },
 "nbformat": 4,
 "nbformat_minor": 2
}
