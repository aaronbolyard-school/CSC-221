{
 "cells": [
  {
   "cell_type": "code",
   "execution_count": null,
   "metadata": {},
   "outputs": [],
   "source": [
    "# M1LAB\n",
    "# Aaron Bolyard\n",
    "\"\"\" \n",
    "author: Aaron Bolyard\n",
    "Helper methods for the Triangle Problem\n",
    "\"\"\""
   ]
  },
  {
   "cell_type": "markdown",
   "metadata": {},
   "source": [
    "### M1LAB Notes\n",
    "\n",
    "In this lab we will be creating some \"helper\" methods to aid in attacking the Fishing Pole Box problem.\n",
    "The deliverable for this assignment is these methods, and along the way we will talk about general principles of how to go from a word problem to a working program that solves that problem.\n",
    "\n",
    "If you're doing this lab without having been to the lecture, you may wish to watch:\n",
    "https://youtu.be/SE4P7IVCunE?t=21m52s (material from 22mins in to the end)\n",
    "The slides are attached to this assignment in Blackboard.\n",
    "\n",
    "#### using notebooks\n",
    "for this assignment, you can work within the notebook, or create your own file. If you prefer not to use a notebook, please use Spyder (in Anaconda) to get familiar with it. (It's not that different than IDLE.)"
   ]
  },
  {
   "cell_type": "markdown",
   "metadata": {},
   "source": [
    "### Setup\n",
    "Let's leave the \"word problem\" part for now, and just talk about right triangles. \n",
    "\n",
    "First, we know we'll use the Pythagorean Theorem, so we need to be able to find square roots.\n",
    "One way is to use the sqrt() function from the Python Math library"
   ]
  },
  {
   "cell_type": "code",
   "execution_count": null,
   "metadata": {},
   "outputs": [],
   "source": [
    "from math import sqrt"
   ]
  },
  {
   "cell_type": "markdown",
   "metadata": {},
   "source": [
    "Let's confirm it was properly imported:"
   ]
  },
  {
   "cell_type": "code",
   "execution_count": null,
   "metadata": {},
   "outputs": [],
   "source": [
    "help(sqrt)\n",
    "\n",
    "x = sqrt(9)\n",
    "print(\"sqrt(9) is\",x)"
   ]
  },
  {
   "cell_type": "markdown",
   "metadata": {},
   "source": [
    "Some of you have already found another way to get this answer:"
   ]
  },
  {
   "cell_type": "code",
   "execution_count": null,
   "metadata": {},
   "outputs": [],
   "source": [
    "# in English, this is \"nine to the power of one half\"\n",
    "print(\"The square root of 9 is\",9 ** 0.5)"
   ]
  },
  {
   "cell_type": "markdown",
   "metadata": {},
   "source": [
    "------------------\n",
    "### The Problem at Hand\n",
    "The idea is to write a Triangle Helper module, and then use it to explore some of the concepts brought up by M1T1.\n",
    "\n",
    "Two problems:\n",
    "\n",
    "1. Given two sides of a right triangle, what is the hypotenuse? - this is a \"plug in the variables\" question. Pythagorean Theorem has 3 variables, and we know two, so we solve for the third.\n",
    "\n",
    "2. Given a hypotenuse, what are the sides of the associated right triangle? - Here we only know one number, and we want to try to find values for the other two variables that \"fit\". But what does \"fit\" mean? for now, let's say \"it's closest without going over the right answer\" -- the \"Price Is Right rule\". We can be more precise later. However, here we want the smallest box that is big enough -- so we want the smallest value that is still big enough!\n",
    "---\n",
    "One option students already looked at was to set up some kind of loop, and use that to try two sides to get the hypotenuse. Then out of those options generated, find the ones that fit. This is a good intuition!\n",
    "\n",
    "That method of solving a problem is called \"Guess And Check\" or \"Exhaustive Enumeration\"\n",
    "\n",
    "so lets try that first. we know that the hypotenuse is the longest side, so there's no point in trying lengths longer than that (could it be equal? intuition says no.) \n",
    "\n",
    "Before writing code, let's create a flowchart or pseudocode. One goal of this step is to come up with VERBS and NOUNS -- in other words, good names for functions and variables!\n",
    "\n"
   ]
  },
  {
   "cell_type": "code",
   "execution_count": null,
   "metadata": {},
   "outputs": [],
   "source": [
    "# scratchpad for pseudocode. \n",
    "\"\"\"\n",
    "A and B - sides, C - hypotenuse. \n",
    "\n",
    "set A to 1. Try B as length x, where we will try x from 1 to the length of C. \n",
    "(TODO: try to come up with good variable names. it's hard.)\n",
    "\n",
    "for each of these, inside the loop, calculate the hypotenuse of this triangle. \n",
    "\n",
    "finally, compare this to the answer we're looking for, and see if we're close enough.\n",
    "\"\"\""
   ]
  },
  {
   "cell_type": "code",
   "execution_count": null,
   "metadata": {
    "scrolled": true
   },
   "outputs": [],
   "source": [
    "import math\n",
    "\n",
    "# try to convert your pseudocode into Python code.\n",
    "# I recommend you keep your existing pseudocode as comments.\n",
    "def calculate_side(hypotenuse):\n",
    "    STEP = 1 / 10\n",
    "\n",
    "    triangle_a = 1\n",
    "    triangle_b = 1\n",
    "    while triangle_b < hypotenuse:\n",
    "        triangle_b += STEP\n",
    "        triangle_c = math.sqrt(triangle_a ** 2 + triangle_b ** 2)\n",
    "        hypotenuse_difference = abs(hypotenuse - triangle_c)\n",
    "        if hypotenuse_difference < STEP:\n",
    "            return triangle_b, True\n",
    "    \n",
    "    return triangle_b, False\n",
    "\n",
    "print(calculate_side(2))\n",
    "print(calculate_side(5))\n",
    "print(calculate_side(10))"
   ]
  },
  {
   "cell_type": "markdown",
   "metadata": {},
   "source": [
    "# -- guess and check --\n",
    "---\n",
    "try this with cube roots. \n",
    "(We'll implement it with square roots next -- cube root is more interesting because we can't just use a python library function to get the answer.)\n",
    "\n",
    "see slides\n",
    "\n",
    "first pass -- just try x from 1 to a number, \n",
    "   guess = x ** 3 (or x * x * x)\n",
    "   is that the answer?\n",
    "   if so, then we're done\n",
    "\n",
    "this pass only works for perfect cubes, and we don't properly handle negative numbers yet\n",
    "\n",
    "second pass -- handle negatives, say if we got an answer or not\n",
    "\n",
    "now, create a square root method using this process. (Do we need to worry about negatives?) "
   ]
  },
  {
   "cell_type": "code",
   "execution_count": null,
   "metadata": {},
   "outputs": [],
   "source": [
    "# implement (or copy and paste) your code below\n",
    "# As the last function, use the new square root function to handle the original \"given A and B, find C\" problem.\n",
    "def cube_root(value):\n",
    "    STEP = 1 / 10\n",
    "    current_cube_root = 1\n",
    "    current_cube = 1\n",
    "    while abs(current_cube - value) > STEP and current_cube < value:\n",
    "        current_cube_root += STEP\n",
    "        current_cube = current_cube_root * current_cube_root * current_cube_root\n",
    "    \n",
    "    return current_cube_root\n",
    "\n",
    "def cube_root_with_negatives(value):\n",
    "    absolute_value = abs(value)\n",
    "    STEP = 1 / 10\n",
    "    current_cube_root = 1\n",
    "    current_cube = 1\n",
    "    while abs(current_cube - absolute_value) > STEP and current_cube < absolute_value:\n",
    "        current_cube_root += STEP\n",
    "        current_cube = current_cube_root * current_cube_root * current_cube_root\n",
    "        \n",
    "    if value < 0:\n",
    "        return -current_cube_root\n",
    "    else:\n",
    "        return current_cube_root\n",
    "\n",
    "    return current_cube_root\n",
    "\n",
    "def square_root(value):\n",
    "    STEP = 1 / 10\n",
    "    current_square_root = 1\n",
    "    current_square = 1\n",
    "    while abs(current_square - value) > STEP and current_square < value:\n",
    "        current_square_root += STEP\n",
    "        current_square = current_square_root * current_square_root\n",
    "    \n",
    "    return current_square_root\n",
    "\n",
    "def calculate_side(hypotenuse):\n",
    "    STEP = 1 / 10\n",
    "\n",
    "    triangle_a = 1\n",
    "    triangle_b = 1\n",
    "    while triangle_b < hypotenuse:\n",
    "        triangle_b += STEP\n",
    "        triangle_c = math.sqrt(triangle_a ** 2 + triangle_b ** 2)\n",
    "        hypotenuse_difference = abs(hypotenuse - triangle_c)\n",
    "        if hypotenuse_difference < STEP:\n",
    "            return triangle_b, True\n",
    "    \n",
    "    return triangle_b, False\n",
    "\n",
    "print(\"without negative support\")\n",
    "print(cube_root(3))\n",
    "print(cube_root(9))\n",
    "print(cube_root(27))\n",
    "print(cube_root(35))\n",
    "print(cube_root(-27))\n",
    "\n",
    "print(\"with negative support\")\n",
    "print(cube_root_with_negatives(3))\n",
    "print(cube_root_with_negatives(9))\n",
    "print(cube_root_with_negatives(27))\n",
    "print(cube_root_with_negatives(35))\n",
    "print(cube_root_with_negatives(-27))\n",
    "\n",
    "print(\"triangles\")\n",
    "print(calculate_side(2))\n",
    "print(calculate_side(5))\n",
    "print(calculate_side(10))"
   ]
  },
  {
   "cell_type": "markdown",
   "metadata": {},
   "source": [
    "### -- approximate solutions --\n",
    "\n",
    "how about non-perfect cubes? well we can't get an exact number, but we can get an approximate solution. (\"good enough\")\n",
    "\n",
    "first pass:\n",
    "start at 0, increment by epsilon (\"a small number\")\n",
    "keep guessing until we get close enough\n",
    "(abs(number - guess**3)) < epsilon\n",
    "\n",
    "\"approximate solution - cube root\"\n",
    "\n",
    "what if you get an infinite loop? how might that happen?\n",
    "(if you skip right over the epsilon range, like goldilocks went from \"too hot\" to \"too cold\" with the porridge)\n",
    "\n",
    "now, use this method to approximate an answer for square roots, and incorporate that into the code. Compare the accuracy."
   ]
  },
  {
   "cell_type": "code",
   "execution_count": null,
   "metadata": {},
   "outputs": [],
   "source": [
    "# implement the approximation method from the slides here\n",
    "\n",
    "# next, implement it for square roots to solve the \"Given A and B, calculate C\" problem.\n",
    "\n",
    "# I initially implemented it this way. Ooops."
   ]
  },
  {
   "cell_type": "code",
   "execution_count": 5,
   "metadata": {},
   "outputs": [
    {
     "name": "stdout",
     "output_type": "stream",
     "text": [
      "3.000091552734375\n"
     ]
    }
   ],
   "source": [
    "### -- bisection search --\n",
    "# example: \"I'm thinking of a number\"\n",
    "# half the interval each time\n",
    "\n",
    "def cube_root(value):\n",
    "    EPSILON = 0.01\n",
    "\n",
    "    absolute_value = abs(value)\n",
    "    upper = absolute_value\n",
    "    lower = 0\n",
    "    \n",
    "    current_cube_root = 0\n",
    "    current_cube = current_cube_root ** 3\n",
    "    while abs(current_cube - absolute_value) >= EPSILON:\n",
    "        if current_cube > absolute_value:\n",
    "            upper = current_cube_root\n",
    "        else:\n",
    "            lower = current_cube_root\n",
    "        \n",
    "        current_cube_root = (upper + lower) * 0.5\n",
    "        current_cube = current_cube_root ** 3\n",
    "        \n",
    "    if value < 0:\n",
    "        return -current_cube_root\n",
    "    else:\n",
    "        return current_cube_root\n",
    "\n",
    "# BONUS: Use this process to improve your square root function to take fewer steps.\n",
    "print(cube_root(27))"
   ]
  },
  {
   "cell_type": "code",
   "execution_count": 4,
   "metadata": {},
   "outputs": [
    {
     "name": "stdout",
     "output_type": "stream",
     "text": [
      "1.4140625\n"
     ]
    }
   ],
   "source": [
    "# implement the bisection search method here as seen in the slides.\n",
    "\n",
    "# BONUS: Use this process to improve your square root function to take fewer steps.\n",
    "\n",
    "def square_root(value):\n",
    "    EPSILON = 0.01\n",
    "\n",
    "    absolute_value = abs(value)\n",
    "    upper = absolute_value\n",
    "    lower = 0\n",
    "    \n",
    "    current_square_root = 0\n",
    "    current_square = current_square_root ** 2\n",
    "    while abs(current_square - absolute_value) >= EPSILON:\n",
    "        if current_square > absolute_value:\n",
    "            upper = current_square_root\n",
    "        else:\n",
    "            lower = current_square_root\n",
    "        \n",
    "        current_square_root = (upper + lower) * 0.5\n",
    "        current_square = current_square_root ** 2\n",
    "    \n",
    "    return current_square_root\n",
    "\n",
    "# BONUS: Use this process to improve your square root function to take fewer steps.\n",
    "print(square_root(2))"
   ]
  },
  {
   "cell_type": "code",
   "execution_count": null,
   "metadata": {},
   "outputs": [],
   "source": []
  }
 ],
 "metadata": {
  "kernelspec": {
   "display_name": "Python 3",
   "language": "python",
   "name": "python3"
  },
  "language_info": {
   "codemirror_mode": {
    "name": "ipython",
    "version": 3
   },
   "file_extension": ".py",
   "mimetype": "text/x-python",
   "name": "python",
   "nbconvert_exporter": "python",
   "pygments_lexer": "ipython3",
   "version": "3.6.5"
  }
 },
 "nbformat": 4,
 "nbformat_minor": 2
}
